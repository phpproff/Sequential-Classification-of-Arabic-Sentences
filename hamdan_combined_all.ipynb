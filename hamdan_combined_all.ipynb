{
 "cells": [
  {
   "cell_type": "code",
   "execution_count": 1,
   "id": "1985d8a3",
   "metadata": {},
   "outputs": [
    {
     "name": "stderr",
     "output_type": "stream",
     "text": [
      "D:\\anaconda3\\envs\\mytfenv\\lib\\site-packages\\requests\\__init__.py:104: RequestsDependencyWarning: urllib3 (1.26.9) or chardet (5.0.0)/charset_normalizer (2.0.4) doesn't match a supported version!\n",
      "  RequestsDependencyWarning)\n"
     ]
    }
   ],
   "source": [
    "import pandas as pd\n",
    "import numpy as np\n",
    "import tensorflow as tf\n",
    "import string\n",
    "from sklearn.model_selection import train_test_split\n",
    "from tensorflow.keras import layers\n",
    "\n",
    "lines = open('E:\\\\deep learning course\\\\hamdan\\\\data.txt','r',encoding='utf=8').readlines()\n",
    "lines.append('\\n')"
   ]
  },
  {
   "cell_type": "code",
   "execution_count": 2,
   "id": "6b23ccd7",
   "metadata": {},
   "outputs": [],
   "source": [
    "ids=[]\n",
    "urls=[]\n",
    "labels=[]\n",
    "texts=[]\n",
    "orders=[]\n",
    "total_lines=[]\n",
    "id=-1\n",
    "url=''\n",
    "order = 0\n",
    "for line in lines:\n",
    "    if line[0]=='#':\n",
    "        id= int(line[line.index('[')+1: line.index(']')])\n",
    "        url= line[line.index(']')+1:]\n",
    "        order =0\n",
    "    elif line != '\\n':\n",
    "        tokens = line.split('\\t')\n",
    "        labels.append(tokens[0])\n",
    "        text = tokens[1].lower().translate(str.maketrans('', '', string.punctuation))\n",
    "        texts.append(text)\n",
    "        orders.append(order)\n",
    "        order=order+1\n",
    "        ids.append(id)\n",
    "        urls.append(url)\n",
    "    elif line =='\\n' or line=='':\n",
    "        for i in range(order):\n",
    "          total_lines.append(order)\n",
    "        order=0\n",
    "        id=-1\n",
    "        url=''"
   ]
  },
  {
   "cell_type": "code",
   "execution_count": 3,
   "id": "bf60c932",
   "metadata": {},
   "outputs": [
    {
     "data": {
      "text/html": [
       "<div>\n",
       "<style scoped>\n",
       "    .dataframe tbody tr th:only-of-type {\n",
       "        vertical-align: middle;\n",
       "    }\n",
       "\n",
       "    .dataframe tbody tr th {\n",
       "        vertical-align: top;\n",
       "    }\n",
       "\n",
       "    .dataframe thead th {\n",
       "        text-align: right;\n",
       "    }\n",
       "</style>\n",
       "<table border=\"1\" class=\"dataframe\">\n",
       "  <thead>\n",
       "    <tr style=\"text-align: right;\">\n",
       "      <th></th>\n",
       "      <th>id</th>\n",
       "      <th>text</th>\n",
       "      <th>order</th>\n",
       "      <th>total_lines</th>\n",
       "      <th>url</th>\n",
       "      <th>label</th>\n",
       "    </tr>\n",
       "  </thead>\n",
       "  <tbody>\n",
       "    <tr>\n",
       "      <th>0</th>\n",
       "      <td>0</td>\n",
       "      <td>هى عبارة حساسية عامة و شديدة تحدث في خلال دقائ...</td>\n",
       "      <td>0</td>\n",
       "      <td>22</td>\n",
       "      <td>https://www.123esaaf.com/Diseases/Anaphylaxis/...</td>\n",
       "      <td>definition</td>\n",
       "    </tr>\n",
       "    <tr>\n",
       "      <th>1</th>\n",
       "      <td>0</td>\n",
       "      <td>و المواد التى تسبب الحساسية المفرطة عديدة و مت...</td>\n",
       "      <td>1</td>\n",
       "      <td>22</td>\n",
       "      <td>https://www.123esaaf.com/Diseases/Anaphylaxis/...</td>\n",
       "      <td>definition</td>\n",
       "    </tr>\n",
       "    <tr>\n",
       "      <th>2</th>\n",
       "      <td>0</td>\n",
       "      <td>فمثلا حبوب اللقاح المتناثرة فى الجو قد تكون عا...</td>\n",
       "      <td>2</td>\n",
       "      <td>22</td>\n",
       "      <td>https://www.123esaaf.com/Diseases/Anaphylaxis/...</td>\n",
       "      <td>definition</td>\n",
       "    </tr>\n",
       "    <tr>\n",
       "      <th>3</th>\n",
       "      <td>0</td>\n",
       "      <td>تختلف الأعراض لمثل هذه الحالات فى شدتها بداية ...</td>\n",
       "      <td>3</td>\n",
       "      <td>22</td>\n",
       "      <td>https://www.123esaaf.com/Diseases/Anaphylaxis/...</td>\n",
       "      <td>Symptoms</td>\n",
       "    </tr>\n",
       "    <tr>\n",
       "      <th>4</th>\n",
       "      <td>0</td>\n",
       "      <td>تشمل الأعراض المصاحبة لهذا المرض ما يلى \\n</td>\n",
       "      <td>4</td>\n",
       "      <td>22</td>\n",
       "      <td>https://www.123esaaf.com/Diseases/Anaphylaxis/...</td>\n",
       "      <td>Symptoms</td>\n",
       "    </tr>\n",
       "  </tbody>\n",
       "</table>\n",
       "</div>"
      ],
      "text/plain": [
       "   id                                               text  order  total_lines  \\\n",
       "0   0  هى عبارة حساسية عامة و شديدة تحدث في خلال دقائ...      0           22   \n",
       "1   0  و المواد التى تسبب الحساسية المفرطة عديدة و مت...      1           22   \n",
       "2   0  فمثلا حبوب اللقاح المتناثرة فى الجو قد تكون عا...      2           22   \n",
       "3   0  تختلف الأعراض لمثل هذه الحالات فى شدتها بداية ...      3           22   \n",
       "4   0         تشمل الأعراض المصاحبة لهذا المرض ما يلى \\n      4           22   \n",
       "\n",
       "                                                 url       label  \n",
       "0  https://www.123esaaf.com/Diseases/Anaphylaxis/...  definition  \n",
       "1  https://www.123esaaf.com/Diseases/Anaphylaxis/...  definition  \n",
       "2  https://www.123esaaf.com/Diseases/Anaphylaxis/...  definition  \n",
       "3  https://www.123esaaf.com/Diseases/Anaphylaxis/...    Symptoms  \n",
       "4  https://www.123esaaf.com/Diseases/Anaphylaxis/...    Symptoms  "
      ]
     },
     "execution_count": 3,
     "metadata": {},
     "output_type": "execute_result"
    }
   ],
   "source": [
    "df = pd.DataFrame({'id':ids, 'text':texts, 'order': orders, 'total_lines': total_lines, 'url':urls, 'label':labels})\n",
    "\n",
    "df.head()"
   ]
  },
  {
   "cell_type": "code",
   "execution_count": 4,
   "id": "4e85bc10",
   "metadata": {},
   "outputs": [
    {
     "data": {
      "text/plain": [
       "5"
      ]
     },
     "execution_count": 4,
     "metadata": {},
     "output_type": "execute_result"
    }
   ],
   "source": [
    "no_classes = len(df['label'].unique())\n",
    "no_classes"
   ]
  },
  {
   "cell_type": "code",
   "execution_count": 5,
   "id": "6a89aaa9",
   "metadata": {},
   "outputs": [
    {
     "data": {
      "text/plain": [
       "47"
      ]
     },
     "execution_count": 5,
     "metadata": {},
     "output_type": "execute_result"
    }
   ],
   "source": [
    "unique_orders = len(df['order'].unique())\n",
    "unique_orders\n",
    "\n",
    "unique_total_lines = len(df['total_lines'].unique())\n",
    "unique_total_lines"
   ]
  },
  {
   "cell_type": "code",
   "execution_count": 6,
   "id": "a53dd1ef",
   "metadata": {},
   "outputs": [],
   "source": [
    "df = df.sample(frac=1.0, random_state=101)\n",
    "cut_off = int(len(df)*0.7)\n",
    "train_df = df[:cut_off]\n",
    "test_df = df[cut_off:]"
   ]
  },
  {
   "cell_type": "code",
   "execution_count": 7,
   "id": "5518c27c",
   "metadata": {},
   "outputs": [],
   "source": [
    "X_sen_train = train_df['text'].to_numpy()\n",
    "X_sen_test = test_df['text'].to_numpy()\n",
    "\n",
    "y_train = pd.get_dummies(train_df['label']).to_numpy()\n",
    "y_test = pd.get_dummies(test_df['label']).to_numpy()"
   ]
  },
  {
   "cell_type": "code",
   "execution_count": 8,
   "id": "7ed34be5",
   "metadata": {},
   "outputs": [],
   "source": [
    "def split_chars(text):\n",
    "    return ' '.join(list(text))"
   ]
  },
  {
   "cell_type": "code",
   "execution_count": 9,
   "id": "0023060c",
   "metadata": {},
   "outputs": [],
   "source": [
    "# Split sequence-level data splits into character-level data splits\n",
    "X_char_train = [split_chars(sentence) for sentence in X_sen_train]\n",
    "X_char_test = [split_chars(sentence) for sentence in X_sen_test]"
   ]
  },
  {
   "cell_type": "code",
   "execution_count": 10,
   "id": "3068039d",
   "metadata": {},
   "outputs": [],
   "source": [
    "train_orders_one_hot = tf.one_hot(train_df['order'].to_numpy(), depth=unique_orders)\n",
    "test_orders_one_hot = tf.one_hot(test_df['order'].to_numpy(), depth=unique_orders)"
   ]
  },
  {
   "cell_type": "code",
   "execution_count": 11,
   "id": "25de4704",
   "metadata": {},
   "outputs": [],
   "source": [
    "train_total_lines_one_hot = tf.one_hot(train_df['total_lines'].to_numpy(), depth=unique_total_lines)\n",
    "test_total_lines_one_hot = tf.one_hot(test_df['total_lines'].to_numpy(), depth=unique_total_lines)"
   ]
  },
  {
   "cell_type": "code",
   "execution_count": 12,
   "id": "cc0ce9b5",
   "metadata": {},
   "outputs": [
    {
     "data": {
      "text/plain": [
       "10231"
      ]
     },
     "execution_count": 12,
     "metadata": {},
     "output_type": "execute_result"
    }
   ],
   "source": [
    "vocab = set()\n",
    "count = 0\n",
    "char_count = 0\n",
    "for text in df['text'].to_numpy():\n",
    "    tokens = text.split()\n",
    "    vocab.update(tokens)\n",
    "    count+=len(tokens)\n",
    "    char_count+= len(text)\n",
    "\n",
    "VOCAB_SIZE = len(vocab)\n",
    "VOCAB_SIZE"
   ]
  },
  {
   "cell_type": "code",
   "execution_count": 13,
   "id": "bead9973",
   "metadata": {},
   "outputs": [
    {
     "data": {
      "text/plain": [
       "53"
      ]
     },
     "execution_count": 13,
     "metadata": {},
     "output_type": "execute_result"
    }
   ],
   "source": [
    "tokens_lens = [len(sentence.split()) for sentence in df['text'].to_numpy()]\n",
    "WORD_SEQ_LENGTH = int(np.percentile(tokens_lens, 95))\n",
    "WORD_SEQ_LENGTH"
   ]
  },
  {
   "cell_type": "code",
   "execution_count": 14,
   "id": "b1875c02",
   "metadata": {},
   "outputs": [
    {
     "data": {
      "text/plain": [
       "286"
      ]
     },
     "execution_count": 14,
     "metadata": {},
     "output_type": "execute_result"
    }
   ],
   "source": [
    "char_lens = [len(sentence) for sentence in df['text'].to_numpy()]\n",
    "CHAR_SEQ_LENGTH = int(np.percentile(char_lens, 95))\n",
    "CHAR_SEQ_LENGTH"
   ]
  },
  {
   "cell_type": "code",
   "execution_count": 15,
   "id": "9a6ea093",
   "metadata": {},
   "outputs": [],
   "source": [
    "BATCH_SIZE = 32\n",
    "WORD_EMBED_SIZE = 300"
   ]
  },
  {
   "cell_type": "code",
   "execution_count": 16,
   "id": "45e5547c",
   "metadata": {},
   "outputs": [],
   "source": [
    "text_vectorizer = tf.keras.layers.experimental.preprocessing.TextVectorization(max_tokens=VOCAB_SIZE, output_sequence_length=WORD_SEQ_LENGTH)\n",
    "\n",
    "text_vectorizer.adapt(df['text'].to_numpy())\n",
    "\n",
    "#word_embedding = tf.keras.layers.Embedding(\n",
    "#    VOCAB_SIZE,\n",
    "#    WORD_EMBED_SIZE,\n",
    "#    mask_zero=True\n",
    "#)"
   ]
  },
  {
   "cell_type": "code",
   "execution_count": 17,
   "id": "2361c696",
   "metadata": {},
   "outputs": [],
   "source": [
    "from tqdm.auto import tqdm\n",
    "from keras.initializers import Constant\n",
    "from gensim.models.keyedvectors import KeyedVectors\n",
    "\n",
    "def prepare_embedding_index(embedding_name):\n",
    "    embeddings_index = {}\n",
    "    if embedding_name == 'Glove':\n",
    "        f = open('/content/drive/MyDrive/hamdan/embeddings/glove/vocab.txt')\n",
    "        #embedding_dim = 200\n",
    "    if embedding_name == 'fastText':\n",
    "        f = open('E:\\\\deep learning course\\\\pretrained Arabic embeddings\\\\fasttext\\\\cc.ar.300.vec\\\\cc.ar.300.vec','r', encoding='utf-8')\n",
    "        embedding_dim = 300\n",
    "    #elif embedding_name == 'AraVec':\n",
    "        #f = gensim.models.Word2Vec.load('/content/full_grams_cbow_300_twitter.mdl')\n",
    "        #embedding_dim = 300\n",
    "        \n",
    "    for line in tqdm(f):\n",
    "        values = line.split()\n",
    "        word = values[0]\n",
    "        coefs = np.asarray(values[1:], dtype='float32')\n",
    "        embeddings_index[word] = coefs\n",
    "    \n",
    "    return embeddings_index, embedding_dim\n",
    "\n",
    "\n",
    "def prepare_embedding_matrix(embeddings_index, embedding_dim, VOC_SIZE, tokenizer):\n",
    "    count_known = 0\n",
    "    count_unknown = 0\n",
    "        \n",
    "    embedding_matrix = np.zeros((VOC_SIZE, embedding_dim))\n",
    "\n",
    "    for word, i in tqdm(tokenizer.word_index.items()):\n",
    "        if i >= VOC_SIZE:\n",
    "            continue\n",
    "        embedding_vector = None\n",
    "        try:\n",
    "            embedding_vector = embeddings_index[word]\n",
    "        except:\n",
    "            pass\n",
    "        if embedding_vector is not None:\n",
    "            embedding_matrix[i] = embedding_vector\n",
    "            count_known += 1\n",
    "        else:\n",
    "            embedding_matrix[i] = np.random.randn(embedding_dim)\n",
    "            count_unknown += 1\n",
    "\n",
    "    print(f'{count_known} known vectors\\n{count_unknown} random vectors') \n",
    "    return embedding_matrix"
   ]
  },
  {
   "cell_type": "code",
   "execution_count": 18,
   "id": "eeae271d",
   "metadata": {},
   "outputs": [
    {
     "data": {
      "application/vnd.jupyter.widget-view+json": {
       "model_id": "06860f4648ba4aae9217ba016d95356c",
       "version_major": 2,
       "version_minor": 0
      },
      "text/plain": [
       "0it [00:00, ?it/s]"
      ]
     },
     "metadata": {},
     "output_type": "display_data"
    },
    {
     "data": {
      "application/vnd.jupyter.widget-view+json": {
       "model_id": "d05b125212cd4ddc9acd29f73e893d17",
       "version_major": 2,
       "version_minor": 0
      },
      "text/plain": [
       "  0%|          | 0/10382 [00:00<?, ?it/s]"
      ]
     },
     "metadata": {},
     "output_type": "display_data"
    },
    {
     "name": "stdout",
     "output_type": "stream",
     "text": [
      "9202 known vectors\n",
      "1028 random vectors\n"
     ]
    }
   ],
   "source": [
    "x_tokenizer = tf.keras.preprocessing.text.Tokenizer(num_words=VOCAB_SIZE) \n",
    "x_tokenizer.fit_on_texts(df['text'].to_numpy())\n",
    "embedding_matrix = prepare_embedding_matrix(*prepare_embedding_index('fastText'), VOC_SIZE=VOCAB_SIZE, tokenizer=x_tokenizer)\n",
    "word_embedding = layers.Embedding(VOCAB_SIZE, embedding_matrix.shape[1], embeddings_initializer=Constant(embedding_matrix),input_length=WORD_SEQ_LENGTH, trainable=True)"
   ]
  },
  {
   "cell_type": "code",
   "execution_count": 19,
   "id": "bca7efe7",
   "metadata": {},
   "outputs": [],
   "source": [
    "alphabet = string.ascii_lowercase + string.digits + string.punctuation\n",
    "alphabet\n",
    "\n",
    "NUM_CHAR_TOKENS = len(alphabet) + 2 # num characters in alphabet + space + OOV token\n",
    "\n",
    "char_vectorizer = tf.keras.layers.TextVectorization(\n",
    "    max_tokens= NUM_CHAR_TOKENS,\n",
    "    standardize='lower_and_strip_punctuation',\n",
    "    split='whitespace',\n",
    "    output_sequence_length=CHAR_SEQ_LENGTH\n",
    ")\n",
    "\n",
    "text_chars = [\" \".join(list(sentence)) for sentence in df['text'].to_numpy()]\n",
    "char_vectorizer.adapt(text_chars)"
   ]
  },
  {
   "cell_type": "code",
   "execution_count": 20,
   "id": "22e0ebbe",
   "metadata": {},
   "outputs": [
    {
     "name": "stdout",
     "output_type": "stream",
     "text": [
      "Number of different characters in character vocab: 70\n",
      "5 most common characters: ['', '[UNK]', 'ا', 'ل', 'م']\n",
      "5 least common characters: ['ً', 'v', '6', 'x', '8']\n"
     ]
    }
   ],
   "source": [
    "char_vocab = char_vectorizer.get_vocabulary()\n",
    "print(f\"Number of different characters in character vocab: {len(char_vocab)}\")\n",
    "print(f\"5 most common characters: {char_vocab[:5]}\")\n",
    "print(f\"5 least common characters: {char_vocab[-5:]}\")"
   ]
  },
  {
   "cell_type": "code",
   "execution_count": 21,
   "id": "da08274c",
   "metadata": {},
   "outputs": [],
   "source": [
    "char_embedding = tf.keras.layers.Embedding(\n",
    "    NUM_CHAR_TOKENS,\n",
    "    25,\n",
    "    mask_zero=False\n",
    ")"
   ]
  },
  {
   "cell_type": "code",
   "execution_count": 22,
   "id": "8fb6ad1d",
   "metadata": {},
   "outputs": [],
   "source": [
    "# 1. Setup token inputs/model\n",
    "word_inputs = layers.Input(shape=[], dtype=tf.string, name=\"token_input\")\n",
    "word_vectors = text_vectorizer(word_inputs)\n",
    "word_embeddings = word_embedding(word_vectors)\n",
    "#xx = layers.Conv1D(128, kernel_size=5, padding=\"same\", activation=\"relu\")(word_embeddings)\n",
    "#word_output = layers.GlobalAveragePooling1D()(xx)\n",
    "word_output = layers.Bidirectional(layers.LSTM(64))(word_embeddings)\n",
    "word_model = tf.keras.Model(inputs=word_inputs, outputs=word_output)"
   ]
  },
  {
   "cell_type": "code",
   "execution_count": 23,
   "id": "2e7e3c88",
   "metadata": {},
   "outputs": [],
   "source": [
    "# 2. Setup char inputs/model\n",
    "char_inputs = layers.Input(shape=(1,), dtype=tf.string, name=\"char_input\")\n",
    "char_vectors = char_vectorizer(char_inputs)\n",
    "char_embeddings = char_embedding(char_vectors)\n",
    "yy = layers.Bidirectional(layers.LSTM(64, return_sequences=True))(char_embeddings)\n",
    "char_output = layers.Bidirectional(layers.LSTM(32))(yy)\n",
    "char_model = tf.keras.Model(inputs=char_inputs,outputs=char_output)"
   ]
  },
  {
   "cell_type": "code",
   "execution_count": 24,
   "id": "89d2a1ce",
   "metadata": {},
   "outputs": [],
   "source": [
    "# 3. Line numbers inputs\n",
    "line_number_inputs = layers.Input(shape=(unique_orders,), dtype=tf.int32, name=\"line_number_input\")\n",
    "x = layers.Dense(32, activation=\"relu\")(line_number_inputs)\n",
    "line_number_model = tf.keras.Model(inputs=line_number_inputs, outputs=x)"
   ]
  },
  {
   "cell_type": "code",
   "execution_count": 25,
   "id": "3725c640",
   "metadata": {},
   "outputs": [],
   "source": [
    "# 4. Total lines inputs\n",
    "total_lines_inputs = layers.Input(shape=(unique_total_lines,), dtype=tf.int32, name=\"total_lines_input\")\n",
    "y = layers.Dense(32, activation=\"relu\")(total_lines_inputs)\n",
    "total_line_model = tf.keras.Model(inputs=total_lines_inputs, outputs=y)"
   ]
  },
  {
   "cell_type": "code",
   "execution_count": 26,
   "id": "c9a7f076",
   "metadata": {},
   "outputs": [],
   "source": [
    "# 5. Combine token and char embeddings into a hybrid embedding\n",
    "combined_embeddings = layers.Concatenate(name=\"token_char_hybrid_embedding\")([word_model.output, \n",
    "                                                                              char_model.output])\n",
    "z = layers.Dense(256, activation=\"relu\")(combined_embeddings)\n",
    "z = layers.Dropout(0.5)(z)"
   ]
  },
  {
   "cell_type": "code",
   "execution_count": 27,
   "id": "4113fc6c",
   "metadata": {},
   "outputs": [],
   "source": [
    "# 6. Combine positional embeddings with combined token and char embeddings into a tribrid embedding\n",
    "z = layers.Concatenate(name=\"token_char_positional_embedding\")([line_number_model.output, total_line_model.output, z])"
   ]
  },
  {
   "cell_type": "code",
   "execution_count": 28,
   "id": "432d5539",
   "metadata": {},
   "outputs": [],
   "source": [
    "# 7. Create output layer\n",
    "o1 = layers.Dense(512, activation=\"relu\")(z)\n",
    "d1 = layers.Dropout(0.2)(o1)\n",
    "o2 = layers.Dense(256, activation=\"relu\")(d1)\n",
    "d2 = layers.Dropout(0.2)(o2)\n",
    "o3 = layers.Dense(128, activation=\"relu\")(d2)\n",
    "output_layer = layers.Dense(no_classes, activation=\"softmax\", name=\"output_layer\")(o3)"
   ]
  },
  {
   "cell_type": "code",
   "execution_count": 29,
   "id": "4c2e5548",
   "metadata": {},
   "outputs": [
    {
     "name": "stdout",
     "output_type": "stream",
     "text": [
      "Model: \"model_4\"\n",
      "__________________________________________________________________________________________________\n",
      " Layer (type)                   Output Shape         Param #     Connected to                     \n",
      "==================================================================================================\n",
      " char_input (InputLayer)        [(None, 1)]          0           []                               \n",
      "                                                                                                  \n",
      " token_input (InputLayer)       [(None,)]            0           []                               \n",
      "                                                                                                  \n",
      " text_vectorization_1 (TextVect  (None, 286)         0           ['char_input[0][0]']             \n",
      " orization)                                                                                       \n",
      "                                                                                                  \n",
      " text_vectorization (TextVector  (None, 53)          0           ['token_input[0][0]']            \n",
      " ization)                                                                                         \n",
      "                                                                                                  \n",
      " embedding_1 (Embedding)        (None, 286, 25)      1750        ['text_vectorization_1[0][0]']   \n",
      "                                                                                                  \n",
      " embedding (Embedding)          (None, 53, 300)      3069300     ['text_vectorization[0][0]']     \n",
      "                                                                                                  \n",
      " bidirectional_1 (Bidirectional  (None, 286, 128)    46080       ['embedding_1[0][0]']            \n",
      " )                                                                                                \n",
      "                                                                                                  \n",
      " bidirectional (Bidirectional)  (None, 128)          186880      ['embedding[0][0]']              \n",
      "                                                                                                  \n",
      " bidirectional_2 (Bidirectional  (None, 64)          41216       ['bidirectional_1[0][0]']        \n",
      " )                                                                                                \n",
      "                                                                                                  \n",
      " token_char_hybrid_embedding (C  (None, 192)         0           ['bidirectional[0][0]',          \n",
      " oncatenate)                                                      'bidirectional_2[0][0]']        \n",
      "                                                                                                  \n",
      " line_number_input (InputLayer)  [(None, 98)]        0           []                               \n",
      "                                                                                                  \n",
      " total_lines_input (InputLayer)  [(None, 47)]        0           []                               \n",
      "                                                                                                  \n",
      " dense_2 (Dense)                (None, 256)          49408       ['token_char_hybrid_embedding[0][\n",
      "                                                                 0]']                             \n",
      "                                                                                                  \n",
      " dense (Dense)                  (None, 32)           3168        ['line_number_input[0][0]']      \n",
      "                                                                                                  \n",
      " dense_1 (Dense)                (None, 32)           1536        ['total_lines_input[0][0]']      \n",
      "                                                                                                  \n",
      " dropout (Dropout)              (None, 256)          0           ['dense_2[0][0]']                \n",
      "                                                                                                  \n",
      " token_char_positional_embeddin  (None, 320)         0           ['dense[0][0]',                  \n",
      " g (Concatenate)                                                  'dense_1[0][0]',                \n",
      "                                                                  'dropout[0][0]']                \n",
      "                                                                                                  \n",
      " dense_3 (Dense)                (None, 512)          164352      ['token_char_positional_embedding\n",
      "                                                                 [0][0]']                         \n",
      "                                                                                                  \n",
      " dropout_1 (Dropout)            (None, 512)          0           ['dense_3[0][0]']                \n",
      "                                                                                                  \n",
      " dense_4 (Dense)                (None, 256)          131328      ['dropout_1[0][0]']              \n",
      "                                                                                                  \n",
      " dropout_2 (Dropout)            (None, 256)          0           ['dense_4[0][0]']                \n",
      "                                                                                                  \n",
      " dense_5 (Dense)                (None, 128)          32896       ['dropout_2[0][0]']              \n",
      "                                                                                                  \n",
      " output_layer (Dense)           (None, 5)            645         ['dense_5[0][0]']                \n",
      "                                                                                                  \n",
      "==================================================================================================\n",
      "Total params: 3,728,559\n",
      "Trainable params: 3,728,559\n",
      "Non-trainable params: 0\n",
      "__________________________________________________________________________________________________\n"
     ]
    }
   ],
   "source": [
    "# 8. Put together model\n",
    "model_5 = tf.keras.Model(inputs=[line_number_model.input,\n",
    "                                 total_line_model.input,\n",
    "                                 word_model.input, \n",
    "                                 char_model.input],\n",
    "                         outputs=output_layer)\n",
    "\n",
    "model_5.summary()"
   ]
  },
  {
   "cell_type": "code",
   "execution_count": 30,
   "id": "9336c66a",
   "metadata": {},
   "outputs": [
    {
     "data": {
      "image/png": "[encoded data removed]",
      "text/plain": [
       "<IPython.core.display.Image object>"
      ]
     },
     "execution_count": 30,
     "metadata": {},
     "output_type": "execute_result"
    }
   ],
   "source": [
    "from tensorflow.keras.utils import plot_model\n",
    "plot_model(model_5)"
   ]
  },
  {
   "cell_type": "code",
   "execution_count": 31,
   "id": "c82d1d29",
   "metadata": {},
   "outputs": [
    {
     "data": {
      "text/plain": [
       "<KerasTensor: shape=(None, 128) dtype=float32 (created by layer 'bidirectional')>"
      ]
     },
     "execution_count": 31,
     "metadata": {},
     "output_type": "execute_result"
    }
   ],
   "source": [
    "word_model.output"
   ]
  },
  {
   "cell_type": "code",
   "execution_count": 32,
   "id": "79e6c8a1",
   "metadata": {},
   "outputs": [
    {
     "data": {
      "text/plain": [
       "<KerasTensor: shape=(None, 64) dtype=float32 (created by layer 'bidirectional_2')>"
      ]
     },
     "execution_count": 32,
     "metadata": {},
     "output_type": "execute_result"
    }
   ],
   "source": [
    "char_model.output"
   ]
  },
  {
   "cell_type": "code",
   "execution_count": 33,
   "id": "b2cefec4",
   "metadata": {},
   "outputs": [],
   "source": [
    "train_pos_char_token_data = tf.data.Dataset.from_tensor_slices((train_orders_one_hot, # line numbers\n",
    "                                                                train_total_lines_one_hot, # total lines\n",
    "                                                                X_sen_train, # train tokens\n",
    "                                                                X_char_train)) # train chars\n",
    "train_pos_char_token_labels = tf.data.Dataset.from_tensor_slices(y_train) # train labels\n",
    "train_pos_char_token_dataset = tf.data.Dataset.zip((train_pos_char_token_data, train_pos_char_token_labels)) # combine data and labels\n",
    "train_pos_char_token_dataset = train_pos_char_token_dataset.batch(BATCH_SIZE).prefetch(tf.data.AUTOTUNE) # turn into batches and prefetch appropriately\n",
    "\n",
    "# Validation dataset\n",
    "test_pos_char_token_data = tf.data.Dataset.from_tensor_slices((test_orders_one_hot,\n",
    "                                                              test_total_lines_one_hot,\n",
    "                                                              X_sen_test,\n",
    "                                                              X_char_test))\n",
    "test_pos_char_token_labels = tf.data.Dataset.from_tensor_slices(y_test)\n",
    "test_pos_char_token_dataset = tf.data.Dataset.zip((test_pos_char_token_data, test_pos_char_token_labels))\n",
    "test_pos_char_token_dataset = test_pos_char_token_dataset.batch(BATCH_SIZE).prefetch(tf.data.AUTOTUNE) # turn into batches and prefetch appropriately"
   ]
  },
  {
   "cell_type": "code",
   "execution_count": 34,
   "id": "2c8f3e48",
   "metadata": {},
   "outputs": [
    {
     "data": {
      "text/plain": [
       "(<PrefetchDataset element_spec=((TensorSpec(shape=(None, 98), dtype=tf.float32, name=None), TensorSpec(shape=(None, 47), dtype=tf.float32, name=None), TensorSpec(shape=(None,), dtype=tf.string, name=None), TensorSpec(shape=(None,), dtype=tf.string, name=None)), TensorSpec(shape=(None, 5), dtype=tf.uint8, name=None))>,\n",
       " <PrefetchDataset element_spec=((TensorSpec(shape=(None, 98), dtype=tf.float32, name=None), TensorSpec(shape=(None, 47), dtype=tf.float32, name=None), TensorSpec(shape=(None,), dtype=tf.string, name=None), TensorSpec(shape=(None,), dtype=tf.string, name=None)), TensorSpec(shape=(None, 5), dtype=tf.uint8, name=None))>)"
      ]
     },
     "execution_count": 34,
     "metadata": {},
     "output_type": "execute_result"
    }
   ],
   "source": [
    "# Check input shapes\n",
    "train_pos_char_token_dataset, test_pos_char_token_dataset"
   ]
  },
  {
   "cell_type": "code",
   "execution_count": 35,
   "id": "47ad482a",
   "metadata": {},
   "outputs": [],
   "source": [
    "es = tf.keras.callbacks.EarlyStopping(\n",
    "    monitor=\"val_loss\",\n",
    "    min_delta=0,\n",
    "    patience=50,\n",
    "    verbose=0,\n",
    "    mode=\"auto\",\n",
    "    baseline=None,\n",
    "    restore_best_weights=False)\n",
    "\n",
    "lrc = tf.keras.callbacks.ReduceLROnPlateau(\n",
    "    monitor='val_loss',\n",
    "    factor=0.1,\n",
    "    patience=5,\n",
    "    verbose=0,\n",
    "    mode='auto',\n",
    "    min_delta=0.0001,\n",
    "    cooldown=0,\n",
    "    min_lr=0\n",
    ")\n",
    "\n",
    "def create_chk(filename):\n",
    "    chk = tf.keras.callbacks.ModelCheckpoint(\n",
    "    filename,\n",
    "    monitor=\"val_loss\",\n",
    "    verbose=0,\n",
    "    save_best_only=True,\n",
    "    save_weights_only=False,\n",
    "    mode=\"auto\",\n",
    "    save_freq=\"epoch\",\n",
    "    options=None,\n",
    "    initial_value_threshold=None)\n",
    "    return chk"
   ]
  },
  {
   "cell_type": "code",
   "execution_count": 36,
   "id": "36ac865c",
   "metadata": {},
   "outputs": [],
   "source": [
    "model_5.compile(loss=\"categorical_crossentropy\",optimizer='rmsprop', metrics=[\"accuracy\"])"
   ]
  },
  {
   "cell_type": "code",
   "execution_count": 37,
   "id": "ad7fd778",
   "metadata": {},
   "outputs": [
    {
     "name": "stdout",
     "output_type": "stream",
     "text": [
      "Epoch 1/50\n",
      "108/108 [==============================] - 18s 93ms/step - loss: 1.0212 - accuracy: 0.6002 - val_loss: 0.6862 - val_accuracy: 0.7551\n",
      "Epoch 2/50\n",
      "108/108 [==============================] - 8s 79ms/step - loss: 0.4914 - accuracy: 0.8239 - val_loss: 0.5500 - val_accuracy: 0.8173\n",
      "Epoch 3/50\n",
      "108/108 [==============================] - 8s 78ms/step - loss: 0.2838 - accuracy: 0.9051 - val_loss: 0.6086 - val_accuracy: 0.8288\n",
      "Epoch 4/50\n",
      "108/108 [==============================] - 8s 78ms/step - loss: 0.1802 - accuracy: 0.9460 - val_loss: 0.5916 - val_accuracy: 0.8714\n",
      "Epoch 5/50\n",
      "108/108 [==============================] - 8s 78ms/step - loss: 0.1037 - accuracy: 0.9695 - val_loss: 0.7401 - val_accuracy: 0.8701\n",
      "Epoch 6/50\n",
      "108/108 [==============================] - 8s 78ms/step - loss: 0.0734 - accuracy: 0.9780 - val_loss: 0.9067 - val_accuracy: 0.8633\n",
      "Epoch 7/50\n",
      "108/108 [==============================] - 8s 78ms/step - loss: 0.0535 - accuracy: 0.9861 - val_loss: 1.1878 - val_accuracy: 0.8613\n",
      "Epoch 8/50\n",
      "108/108 [==============================] - 8s 78ms/step - loss: 0.0313 - accuracy: 0.9901 - val_loss: 1.3622 - val_accuracy: 0.8505\n",
      "Epoch 9/50\n",
      "108/108 [==============================] - 8s 78ms/step - loss: 0.0371 - accuracy: 0.9893 - val_loss: 1.1582 - val_accuracy: 0.8755\n",
      "Epoch 10/50\n",
      "108/108 [==============================] - 8s 77ms/step - loss: 0.0203 - accuracy: 0.9925 - val_loss: 1.5475 - val_accuracy: 0.8613\n",
      "Epoch 11/50\n",
      "108/108 [==============================] - 8s 79ms/step - loss: 0.0276 - accuracy: 0.9939 - val_loss: 1.3613 - val_accuracy: 0.8701\n",
      "Epoch 12/50\n",
      "108/108 [==============================] - 8s 78ms/step - loss: 0.0180 - accuracy: 0.9951 - val_loss: 1.5209 - val_accuracy: 0.8586\n",
      "Epoch 13/50\n",
      "108/108 [==============================] - 8s 78ms/step - loss: 0.0101 - accuracy: 0.9968 - val_loss: 1.9078 - val_accuracy: 0.8620\n",
      "Epoch 14/50\n",
      "108/108 [==============================] - 8s 78ms/step - loss: 0.0173 - accuracy: 0.9965 - val_loss: 2.5304 - val_accuracy: 0.8586\n",
      "Epoch 15/50\n",
      "108/108 [==============================] - 8s 78ms/step - loss: 0.0276 - accuracy: 0.9945 - val_loss: 1.9275 - val_accuracy: 0.8593\n",
      "Epoch 16/50\n",
      "108/108 [==============================] - 8s 78ms/step - loss: 0.0119 - accuracy: 0.9971 - val_loss: 3.0274 - val_accuracy: 0.8437\n",
      "Epoch 17/50\n",
      "108/108 [==============================] - 8s 78ms/step - loss: 0.0138 - accuracy: 0.9974 - val_loss: 2.2689 - val_accuracy: 0.8714\n",
      "Epoch 18/50\n",
      "108/108 [==============================] - 8s 78ms/step - loss: 0.0192 - accuracy: 0.9965 - val_loss: 2.5235 - val_accuracy: 0.8660\n",
      "Epoch 19/50\n",
      "108/108 [==============================] - 8s 78ms/step - loss: 0.0198 - accuracy: 0.9954 - val_loss: 2.2505 - val_accuracy: 0.8579\n",
      "Epoch 20/50\n",
      "108/108 [==============================] - 8s 77ms/step - loss: 0.0070 - accuracy: 0.9985 - val_loss: 2.7206 - val_accuracy: 0.8640\n",
      "Epoch 21/50\n",
      "108/108 [==============================] - 8s 77ms/step - loss: 0.0199 - accuracy: 0.9965 - val_loss: 2.8503 - val_accuracy: 0.8518\n",
      "Epoch 22/50\n",
      "108/108 [==============================] - 8s 77ms/step - loss: 0.0091 - accuracy: 0.9983 - val_loss: 2.9037 - val_accuracy: 0.8593\n",
      "Epoch 23/50\n",
      "108/108 [==============================] - 8s 78ms/step - loss: 0.0072 - accuracy: 0.9985 - val_loss: 2.8359 - val_accuracy: 0.8667\n",
      "Epoch 24/50\n",
      "108/108 [==============================] - 8s 78ms/step - loss: 0.0151 - accuracy: 0.9980 - val_loss: 2.5583 - val_accuracy: 0.8545\n",
      "Epoch 25/50\n",
      "108/108 [==============================] - 8s 77ms/step - loss: 0.0274 - accuracy: 0.9983 - val_loss: 2.2599 - val_accuracy: 0.8640\n",
      "Epoch 26/50\n",
      "108/108 [==============================] - 8s 78ms/step - loss: 0.0212 - accuracy: 0.9965 - val_loss: 2.7049 - val_accuracy: 0.8627\n",
      "Epoch 27/50\n",
      "108/108 [==============================] - 8s 78ms/step - loss: 8.3834e-05 - accuracy: 1.0000 - val_loss: 2.8288 - val_accuracy: 0.8572\n",
      "Epoch 28/50\n",
      "108/108 [==============================] - 8s 79ms/step - loss: 0.0061 - accuracy: 0.9988 - val_loss: 3.0809 - val_accuracy: 0.8654\n",
      "Epoch 29/50\n",
      "108/108 [==============================] - 8s 77ms/step - loss: 0.0137 - accuracy: 0.9980 - val_loss: 2.8955 - val_accuracy: 0.8552\n",
      "Epoch 30/50\n",
      "108/108 [==============================] - 8s 78ms/step - loss: 0.0102 - accuracy: 0.9988 - val_loss: 3.2081 - val_accuracy: 0.8606\n",
      "Epoch 31/50\n",
      "108/108 [==============================] - 8s 79ms/step - loss: 0.0103 - accuracy: 0.9988 - val_loss: 3.2476 - val_accuracy: 0.8606\n",
      "Epoch 32/50\n",
      "108/108 [==============================] - 8s 78ms/step - loss: 0.0021 - accuracy: 0.9988 - val_loss: 3.3946 - val_accuracy: 0.8484\n",
      "Epoch 33/50\n",
      "108/108 [==============================] - 8s 78ms/step - loss: 0.0491 - accuracy: 0.9968 - val_loss: 3.2793 - val_accuracy: 0.8545\n",
      "Epoch 34/50\n",
      "108/108 [==============================] - 8s 78ms/step - loss: 0.0212 - accuracy: 0.9974 - val_loss: 3.6700 - val_accuracy: 0.8545\n",
      "Epoch 35/50\n",
      "108/108 [==============================] - 8s 78ms/step - loss: 0.0117 - accuracy: 0.9983 - val_loss: 2.8748 - val_accuracy: 0.8633\n",
      "Epoch 36/50\n",
      "108/108 [==============================] - 8s 78ms/step - loss: 0.0077 - accuracy: 0.9991 - val_loss: 3.2620 - val_accuracy: 0.8518\n",
      "Epoch 37/50\n",
      "108/108 [==============================] - 8s 78ms/step - loss: 0.0058 - accuracy: 0.9988 - val_loss: 2.5939 - val_accuracy: 0.8613\n",
      "Epoch 38/50\n",
      "108/108 [==============================] - 8s 78ms/step - loss: 0.0042 - accuracy: 0.9994 - val_loss: 3.2234 - val_accuracy: 0.8518\n",
      "Epoch 39/50\n",
      "108/108 [==============================] - 8s 78ms/step - loss: 0.0082 - accuracy: 0.9985 - val_loss: 4.2290 - val_accuracy: 0.8484\n",
      "Epoch 40/50\n",
      "108/108 [==============================] - 8s 78ms/step - loss: 0.0168 - accuracy: 0.9983 - val_loss: 3.9115 - val_accuracy: 0.8654\n",
      "Epoch 41/50\n",
      "108/108 [==============================] - 8s 78ms/step - loss: 0.0248 - accuracy: 0.9985 - val_loss: 3.1418 - val_accuracy: 0.8532\n",
      "Epoch 42/50\n",
      "108/108 [==============================] - 8s 78ms/step - loss: 0.0048 - accuracy: 0.9985 - val_loss: 3.2482 - val_accuracy: 0.8654\n",
      "Epoch 43/50\n",
      "108/108 [==============================] - 8s 78ms/step - loss: 0.0010 - accuracy: 0.9997 - val_loss: 4.0939 - val_accuracy: 0.8701\n",
      "Epoch 44/50\n",
      "108/108 [==============================] - 8s 78ms/step - loss: 0.0158 - accuracy: 0.9994 - val_loss: 4.0533 - val_accuracy: 0.8654\n",
      "Epoch 45/50\n",
      "108/108 [==============================] - 8s 78ms/step - loss: 0.0049 - accuracy: 0.9991 - val_loss: 5.3877 - val_accuracy: 0.8322\n",
      "Epoch 46/50\n",
      "108/108 [==============================] - 8s 78ms/step - loss: 0.0071 - accuracy: 0.9991 - val_loss: 4.2463 - val_accuracy: 0.8654\n",
      "Epoch 47/50\n",
      "108/108 [==============================] - 8s 78ms/step - loss: 4.5370e-06 - accuracy: 1.0000 - val_loss: 4.6354 - val_accuracy: 0.8660\n",
      "Epoch 48/50\n",
      "108/108 [==============================] - 8s 77ms/step - loss: 0.0111 - accuracy: 0.9988 - val_loss: 4.3672 - val_accuracy: 0.8505\n",
      "Epoch 49/50\n",
      "108/108 [==============================] - 8s 78ms/step - loss: 1.4726e-06 - accuracy: 1.0000 - val_loss: 4.2506 - val_accuracy: 0.8721\n",
      "Epoch 50/50\n",
      "108/108 [==============================] - 8s 78ms/step - loss: 0.0061 - accuracy: 0.9991 - val_loss: 4.8595 - val_accuracy: 0.8667\n"
     ]
    }
   ],
   "source": [
    "model_5_history = model_5.fit(train_pos_char_token_dataset, validation_data=test_pos_char_token_dataset, epochs=50)"
   ]
  },
  {
   "cell_type": "code",
   "execution_count": 39,
   "id": "1929f13a",
   "metadata": {},
   "outputs": [
    {
     "name": "stdout",
     "output_type": "stream",
     "text": [
      "47/47 [==============================] - 2s 34ms/step - loss: 4.8595 - accuracy: 0.8667\n"
     ]
    },
    {
     "data": {
      "text/plain": [
       "[4.859477996826172, 0.8667117953300476]"
      ]
     },
     "execution_count": 39,
     "metadata": {},
     "output_type": "execute_result"
    }
   ],
   "source": [
    "model_5.evaluate(test_pos_char_token_dataset)"
   ]
  },
  {
   "cell_type": "code",
   "execution_count": null,
   "id": "3ae2d285",
   "metadata": {},
   "outputs": [],
   "source": []
  },
  {
   "cell_type": "code",
   "execution_count": null,
   "id": "3ba290bf",
   "metadata": {},
   "outputs": [],
   "source": []
  }
 ],
 "metadata": {
  "kernelspec": {
   "display_name": "Python 3 (ipykernel)",
   "language": "python",
   "name": "python3"
  },
  "language_info": {
   "codemirror_mode": {
    "name": "ipython",
    "version": 3
   },
   "file_extension": ".py",
   "mimetype": "text/x-python",
   "name": "python",
   "nbconvert_exporter": "python",
   "pygments_lexer": "ipython3",
   "version": "3.7.13"
  }
 },
 "nbformat": 4,
 "nbformat_minor": 5
}
